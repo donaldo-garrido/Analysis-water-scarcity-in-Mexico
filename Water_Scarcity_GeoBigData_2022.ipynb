{
  "cells": [
    {
      "attachments": {},
      "cell_type": "markdown",
      "metadata": {
        "id": "2gUEbGL2OnaW"
      },
      "source": [
        "# Temática: problemática del agua en México\n",
        "\n",
        "### Basado en el Objetivo de Desarrollo Sostenible 6: Garantizar la disponibilidad de agua y su gestión sostenible y el saneamiento.\n",
        "\n",
        "Concurso para la presentación de soluciones a retos de impacto social que tengan el análisis y la manipulación de datos, así como \n",
        "la extracción y presentación de información, como elementos fundamentales para el desarrollo de una propuesta de \n",
        "implementación."
      ]
    },
    {
      "cell_type": "code",
      "execution_count": 26,
      "metadata": {
        "colab": {
          "base_uri": "https://localhost:8080/"
        },
        "id": "3xmplYOkNrpR",
        "outputId": "1e4dfc00-f69e-4df1-a2bb-cadaf8d44530"
      },
      "outputs": [
        {
          "name": "stdout",
          "output_type": "stream",
          "text": [
            "^C\n",
            "^C\n"
          ]
        }
      ],
      "source": [
        "!apt-get install openjdk-11-jdk-headless -qq > /dev/null # Instalación de java\n",
        "!wget -q https://archive.apache.org/dist/spark/spark-3.2.2/spark-3.2.2-bin-hadoop3.2.tgz # Traemos archivos de APACHE\n",
        "!tar xf spark-3.2.2-bin-hadoop3.2.tgz # Traemos los archivos de Spark\n",
        "!pip -q install findspark # Isntalamos findspark"
      ]
    },
    {
      "cell_type": "code",
      "execution_count": null,
      "metadata": {
        "colab": {
          "base_uri": "https://localhost:8080/"
        },
        "id": "W9cuX8D9OGF5",
        "outputId": "444c50b7-9a05-4537-aa90-099c222e9ad7"
      },
      "outputs": [
        {
          "name": "stdout",
          "output_type": "stream",
          "text": [
            "sample_data  spark-3.2.2-bin-hadoop3.2\tspark-3.2.2-bin-hadoop3.2.tgz\n"
          ]
        }
      ],
      "source": [
        "!ls # Revisamos qué hay en el directorio"
      ]
    },
    {
      "cell_type": "code",
      "execution_count": null,
      "metadata": {
        "id": "o7o_EIMlPe1g"
      },
      "outputs": [],
      "source": [
        "# No correr, fue para quitar los duplicados de las bases de datos\n",
        "#!rm -r spark-3.2.2-bin-hadoop3.2"
      ]
    },
    {
      "cell_type": "code",
      "execution_count": null,
      "metadata": {
        "colab": {
          "base_uri": "https://localhost:8080/"
        },
        "id": "MkfGR2bXPsEe",
        "outputId": "5ff72d52-1241-4a45-df5c-0128c996134a"
      },
      "outputs": [
        {
          "name": "stdout",
          "output_type": "stream",
          "text": [
            "\u001b[K     |████████████████████████████████| 281.4 MB 57 kB/s \n",
            "\u001b[K     |████████████████████████████████| 199 kB 66.5 MB/s \n",
            "\u001b[?25h  Building wheel for pyspark (setup.py) ... \u001b[?25l\u001b[?25hdone\n"
          ]
        }
      ],
      "source": [
        "# Instalamos Spark para Python\n",
        "!pip -q install pyspark"
      ]
    },
    {
      "cell_type": "code",
      "execution_count": 167,
      "metadata": {
        "colab": {
          "base_uri": "https://localhost:8080/"
        },
        "id": "E9V7E4IPhMaS",
        "outputId": "47ae9846-e0d2-4a54-fe61-f20544475a23"
      },
      "outputs": [
        {
          "name": "stdout",
          "output_type": "stream",
          "text": [
            "Looking in indexes: https://pypi.org/simple, https://us-python.pkg.dev/colab-wheels/public/simple/\n",
            "Requirement already satisfied: scikit-learn in /usr/local/lib/python3.7/dist-packages (1.0.2)\n",
            "Requirement already satisfied: threadpoolctl>=2.0.0 in /usr/local/lib/python3.7/dist-packages (from scikit-learn) (3.1.0)\n",
            "Requirement already satisfied: numpy>=1.14.6 in /usr/local/lib/python3.7/dist-packages (from scikit-learn) (1.21.6)\n",
            "Requirement already satisfied: scipy>=1.1.0 in /usr/local/lib/python3.7/dist-packages (from scikit-learn) (1.7.3)\n",
            "Requirement already satisfied: joblib>=0.11 in /usr/local/lib/python3.7/dist-packages (from scikit-learn) (1.2.0)\n"
          ]
        }
      ],
      "source": [
        "!pip install scikit-learn"
      ]
    },
    {
      "cell_type": "code",
      "execution_count": null,
      "metadata": {
        "colab": {
          "base_uri": "https://localhost:8080/"
        },
        "id": "jp2vbV3fQYtA",
        "outputId": "1d685319-7c00-434d-d52d-5593d622da79"
      },
      "outputs": [
        {
          "name": "stdout",
          "output_type": "stream",
          "text": [
            "\u001b[K     |████████████████████████████████| 1.0 MB 9.8 MB/s \n",
            "\u001b[K     |████████████████████████████████| 1.0 MB 61.2 MB/s \n",
            "\u001b[K     |████████████████████████████████| 67 kB 4.2 MB/s \n",
            "\u001b[K     |████████████████████████████████| 16.7 MB 63.0 MB/s \n",
            "\u001b[K     |████████████████████████████████| 6.3 MB 66.1 MB/s \n",
            "\u001b[?25h"
          ]
        }
      ],
      "source": [
        "# Instalamos GeoPandas\n",
        "!pip -q install geopandas attrs shapely rtree apache-sedona[spark]"
      ]
    },
    {
      "cell_type": "code",
      "execution_count": null,
      "metadata": {
        "colab": {
          "base_uri": "https://localhost:8080/"
        },
        "id": "r5H7NWeFRqEw",
        "outputId": "6477e6d8-7d07-4762-c2ff-cf4dc0bae2f1"
      },
      "outputs": [
        {
          "name": "stdout",
          "output_type": "stream",
          "text": [
            "Downloading...\n",
            "From: https://drive.google.com/uc?id=1fLXusjBYsIxjvWolnmeaZXxKY4kaCjfL\n",
            "To: /content/SCINCE_Parquets.zip\n",
            "100% 1.07G/1.07G [00:11<00:00, 94.3MB/s]\n",
            "Downloading...\n",
            "From: https://drive.google.com/uc?id=1dWUkR4gxf8ngaF9y4mfn8OJmsIbAYYgP\n",
            "To: /content/DENUE_Parquets.zip\n",
            "100% 486M/486M [00:04<00:00, 109MB/s] \n"
          ]
        }
      ],
      "source": [
        "# Descarga de Bases de Datos SCINCE 2020 y DENUE Mayo 2022\n",
        "\n",
        "!gdown 1fLXusjBYsIxjvWolnmeaZXxKY4kaCjfL\n",
        "!gdown 1dWUkR4gxf8ngaF9y4mfn8OJmsIbAYYgP"
      ]
    },
    {
      "cell_type": "markdown",
      "metadata": {
        "id": "cvhNSN3-RdBk"
      },
      "source": [
        "# Descompactar los datos"
      ]
    },
    {
      "cell_type": "code",
      "execution_count": null,
      "metadata": {
        "colab": {
          "base_uri": "https://localhost:8080/"
        },
        "id": "Y-CivVbrYqBo",
        "outputId": "ba987481-3c71-44b8-b415-92eeb6f09472"
      },
      "outputs": [
        {
          "name": "stdout",
          "output_type": "stream",
          "text": [
            "/content/DENUE_Parquets.zip  /content/SCINCE_Parquets.zip\n"
          ]
        }
      ],
      "source": [
        "# Leemos cuáles son los archivos ZIP con los que contamos\n",
        "!ls /content/*.zip"
      ]
    },
    {
      "cell_type": "code",
      "execution_count": null,
      "metadata": {
        "id": "bBfkBulQRijJ"
      },
      "outputs": [],
      "source": [
        "# Extraemos el ZIP de DENUE\n",
        "!unzip /content/DENUE_Parquets.zip -d /content/DENUE_Parquets/ &> /dev/null"
      ]
    },
    {
      "cell_type": "code",
      "execution_count": null,
      "metadata": {
        "id": "Louh2yPyRlEQ"
      },
      "outputs": [],
      "source": [
        "# Extraemos el ZIP de SCIENCE\n",
        "!unzip /content/SCINCE_Parquets.zip -d /content/SCINCE_Parquets/ &> /dev/null"
      ]
    },
    {
      "cell_type": "code",
      "execution_count": null,
      "metadata": {
        "colab": {
          "base_uri": "https://localhost:8080/"
        },
        "id": "kh6QT6uQRnkw",
        "outputId": "9c221402-2347-4a39-e01e-6869b6c90cbc"
      },
      "outputs": [
        {
          "name": "stdout",
          "output_type": "stream",
          "text": [
            "01.parquet  07.parquet\t13.parquet    18.parquet  24.parquet  30.parquet\n",
            "02.parquet  08.parquet\t14.parquet    19.parquet  25.parquet  31.parquet\n",
            "03.parquet  09.parquet\t15_1.parquet  20.parquet  26.parquet  32.parquet\n",
            "04.parquet  10.parquet\t15_2.parquet  21.parquet  27.parquet\n",
            "05.parquet  11.parquet\t16.parquet    22.parquet  28.parquet\n",
            "06.parquet  12.parquet\t17.parquet    23.parquet  29.parquet\n"
          ]
        }
      ],
      "source": [
        "# Revisamos los Parquets obtenidos\n",
        "!ls /content/DENUE_Parquets"
      ]
    },
    {
      "cell_type": "markdown",
      "metadata": {
        "id": "RvWer5CbScFc"
      },
      "source": [
        "# Inicio de Apache Spark y Apache Sedona"
      ]
    },
    {
      "cell_type": "code",
      "execution_count": null,
      "metadata": {
        "colab": {
          "base_uri": "https://localhost:8080/"
        },
        "id": "7F8qNi9VR0rM",
        "outputId": "8ce94304-5ba9-4483-d868-c78cfea7cf4c"
      },
      "outputs": [
        {
          "data": {
            "text/plain": [
              "True"
            ]
          },
          "execution_count": 52,
          "metadata": {},
          "output_type": "execute_result"
        }
      ],
      "source": [
        "# Importamos las librerías de interés\n",
        "\n",
        "import findspark # Spark\n",
        "findspark.init()\n",
        "import shapely \n",
        "import pandas as pd # Pandas \n",
        "import geopandas as gpd # Geopandas\n",
        "from pyspark.sql import SparkSession # Spark para SQL\n",
        "from pyspark import SparkContext\n",
        "from pyspark import SparkConf\n",
        "from sedona.register import SedonaRegistrator #Sedona\n",
        "from sedona.utils import SedonaKryoRegistrator, KryoSerializer\n",
        "spark = SparkSession. \\\n",
        "builder. \\\n",
        "appName('GeoBigData'). \\\n",
        "config(\"spark.serializer\", KryoSerializer.getName). \\\n",
        "config(\"spark.executor.memory\", \"5g\"). \\\n",
        "config(\"spark.driver.memory\", \"10g\"). \\\n",
        "config('spark.driver.maxResultSize', '5g'). \\\n",
        "config(\"spark.kryo.registrator\", SedonaKryoRegistrator.getName). \\\n",
        "config('spark.jars.packages',\n",
        "           'org.apache.sedona:sedona-python-adapter-3.0_2.12:1.2.0-incubating,'\n",
        "           'org.datasyslab:geotools-wrapper:1.1.0-25.2'). \\\n",
        "getOrCreate()\n",
        "SedonaRegistrator.registerAll(spark)"
      ]
    },
    {
      "cell_type": "markdown",
      "metadata": {
        "id": "xCj625M8S9Ui"
      },
      "source": [
        "## Leer Datos\n",
        "\n",
        "Parquet is a columnar format that is supported by many other data processing systems. Spark SQL provides support for both reading and writing Parquet files that automatically preserves the schema of the original data. When reading Parquet files, all columns are automatically converted to be nullable for compatibility reasons.\n",
        "\n",
        "............................................................................................................................................................................................................\n",
        "\n",
        "cache() es una transformación de Apache Spark que se puede usar en un DataFrame, Dataset o RDD cuando desee realizar más de una acción. cache() almacena en caché el DataFrame, Dataset o RDD especificados en la memoria de los trabajos del clúster. Puesto que cache() es una transformación, la operación de almacenamiento en caché tiene lugar solo cuando una acción de Spark (por ejemplo, count(), show(), take() o write()) también se usa en el mismo DataFrame, Dataset o RDD en una única acción."
      ]
    },
    {
      "cell_type": "code",
      "execution_count": 89,
      "metadata": {
        "colab": {
          "base_uri": "https://localhost:8080/"
        },
        "id": "y4qOO7ClSwJA",
        "outputId": "ff02a122-b378-48f1-ddf1-d3eab56533e7"
      },
      "outputs": [
        {
          "name": "stdout",
          "output_type": "stream",
          "text": [
            "root\n",
            " |-- CVEGEO: string (nullable = true)\n",
            " |-- VIV17: double (nullable = true)\n",
            " |-- VIV23: double (nullable = true)\n",
            " |-- VIV25: double (nullable = true)\n",
            " |-- VIV90: double (nullable = true)\n",
            " |-- VIV91: double (nullable = true)\n",
            " |-- geometry: geometry (nullable = true)\n",
            "\n",
            "+----------------+-----+-----+-----+-----+-----+--------------------+\n",
            "|          CVEGEO|VIV17|VIV23|VIV25|VIV90|VIV91|            geometry|\n",
            "+----------------+-----+-----+-----+-----+-----+--------------------+\n",
            "|1600100010028010| 19.0| 19.0| 19.0| 17.0|  5.0|POLYGON ((2569921...|\n",
            "|1600100010028011| 16.0| 16.0| 16.0| 13.0|  7.0|POLYGON ((2569921...|\n",
            "|1600100010028012| 24.0| 24.0| 24.0| 23.0| 15.0|POLYGON ((2569754...|\n",
            "|1600100010028013|  7.0|  7.0|  7.0|  7.0|  4.0|POLYGON ((2569753...|\n",
            "|1600100010028028| 24.0| 24.0| 24.0| 23.0|  8.0|POLYGON ((2569690...|\n",
            "|1600100010028042| 12.0| 12.0| 12.0| 11.0|  0.0|POLYGON ((2570201...|\n",
            "|1600100010028050| 19.0| 17.0| 17.0| 14.0| -6.0|POLYGON ((2569382...|\n",
            "|1600100010051001| 11.0| 11.0| 11.0| 10.0|  5.0|POLYGON ((2569103...|\n",
            "|1600100010051009| 12.0| 12.0| 12.0| 12.0|  4.0|POLYGON ((2569360...|\n",
            "|1600100010051011| 12.0| 12.0| 12.0|  8.0|  6.0|POLYGON ((2568788...|\n",
            "|1600100010051012|  5.0|  5.0|  5.0|  4.0| -6.0|POLYGON ((2568908...|\n",
            "|1600100010051016|  6.0|  6.0|  6.0|  5.0| -6.0|POLYGON ((2569520...|\n",
            "|1600100010051018|  5.0|  5.0|  5.0|  5.0| -6.0|POLYGON ((2568978...|\n",
            "|1600100010051023| 23.0| 24.0| 23.0| 18.0|  7.0|POLYGON ((2569249...|\n",
            "|1600100010051024|  5.0|  5.0|  5.0|  5.0| -6.0|POLYGON ((2569137...|\n",
            "|1600100010066010|  4.0|  4.0|  4.0|  4.0| -6.0|POLYGON ((2570157...|\n",
            "|1600100010066019| -8.0| -8.0| -8.0| -8.0| -8.0|POLYGON ((2570011...|\n",
            "|1600100010066023|  3.0|  3.0|  3.0|  3.0| -6.0|POLYGON ((2569868...|\n",
            "|1600100010070005| 18.0| 18.0| 18.0| 18.0|  6.0|POLYGON ((2569600...|\n",
            "|1600100010085002|  5.0|  5.0|  5.0|  3.0| -6.0|POLYGON ((2570165...|\n",
            "+----------------+-----+-----+-----+-----+-----+--------------------+\n",
            "only showing top 20 rows\n",
            "\n"
          ]
        }
      ],
      "source": [
        "# Leer parquet con Spark\n",
        "# 16_MICH.parquet\n",
        "# 01_AGS Aguascalientes\n",
        "# 19_NL Nuevo Leon\n",
        "\n",
        "BD_MANZANAS = spark.read.parquet(f\"/content/SCINCE_Parquets/SCINCE_Parquets/16_MICH.parquet\")\n",
        "\n",
        "\n",
        "\n",
        "# Variables de interés (Definimos la lista)\n",
        "# No se editan las variables de 'CVEGEO' ni 'geometry'\n",
        "#Var_INTERES = ['CVEGEO', 'VIV17', 'VIV23', 'VIV25', 'VIV90', 'VIV91', 'geometry']\n",
        "Var_INTERES = ['CVEGEO', 'VIV17', 'VIV23', 'VIV25', 'VIV90', 'VIV91', 'geometry']\n",
        "\n",
        "# Seleccionamos las columnas de interés del archivo parquet\n",
        "BD_MANZANAS_EEVVV = BD_MANZANAS.select(Var_INTERES)\n",
        "# Explicación de caché en la celda de texto anterior\n",
        "BD_MANZANAS_EEVVV.cache()\n",
        "# Esquema con detalles de los datos en las columnas\n",
        "BD_MANZANAS_EEVVV.printSchema()\n",
        "\n",
        "# A DataFrame is equivalent to a relational table in Spark SQL, \n",
        "# and can be created using various functions in SparkSession\n",
        "BD_MANZANAS_EEVVV.show() # Mostramos el DataFrame"
      ]
    },
    {
      "cell_type": "code",
      "execution_count": 90,
      "metadata": {
        "id": "emJ7VMdzTRU5"
      },
      "outputs": [],
      "source": [
        "# createOrReplaceTempView\n",
        "# Creates or replaces a local temporary view with this DataFrame.\n",
        "# The lifetime of this temporary table is tied to the SparkSession that was used to create this DataFrame.\n",
        "BD_MANZANAS_EEVVV.createOrReplaceTempView(\"manzanas\")"
      ]
    },
    {
      "cell_type": "code",
      "execution_count": 91,
      "metadata": {
        "colab": {
          "base_uri": "https://localhost:8080/"
        },
        "id": "4fqXUmQHWeKE",
        "outputId": "db66a6c3-4c97-4035-f590-ab36cf2bba39"
      },
      "outputs": [
        {
          "name": "stdout",
          "output_type": "stream",
          "text": [
            "+----------------+-----+-----+-----+-----+-----+--------------------+\n",
            "|          CVEGEO|VIV17|VIV23|VIV25|VIV90|VIV91|            geometry|\n",
            "+----------------+-----+-----+-----+-----+-----+--------------------+\n",
            "|1600100010028010| 19.0| 19.0| 19.0| 17.0|  5.0|POLYGON ((2569921...|\n",
            "|1600100010028011| 16.0| 16.0| 16.0| 13.0|  7.0|POLYGON ((2569921...|\n",
            "|1600100010028012| 24.0| 24.0| 24.0| 23.0| 15.0|POLYGON ((2569754...|\n",
            "|1600100010028013|  7.0|  7.0|  7.0|  7.0|  4.0|POLYGON ((2569753...|\n",
            "|1600100010028028| 24.0| 24.0| 24.0| 23.0|  8.0|POLYGON ((2569690...|\n",
            "|1600100010028042| 12.0| 12.0| 12.0| 11.0|  0.0|POLYGON ((2570201...|\n",
            "|1600100010028050| 19.0| 17.0| 17.0| 14.0|  0.0|POLYGON ((2569382...|\n",
            "|1600100010051001| 11.0| 11.0| 11.0| 10.0|  5.0|POLYGON ((2569103...|\n",
            "|1600100010051009| 12.0| 12.0| 12.0| 12.0|  4.0|POLYGON ((2569360...|\n",
            "|1600100010051011| 12.0| 12.0| 12.0|  8.0|  6.0|POLYGON ((2568788...|\n",
            "|1600100010051012|  5.0|  5.0|  5.0|  4.0|  0.0|POLYGON ((2568908...|\n",
            "|1600100010051016|  6.0|  6.0|  6.0|  5.0|  0.0|POLYGON ((2569520...|\n",
            "|1600100010051018|  5.0|  5.0|  5.0|  5.0|  0.0|POLYGON ((2568978...|\n",
            "|1600100010051023| 23.0| 24.0| 23.0| 18.0|  7.0|POLYGON ((2569249...|\n",
            "|1600100010051024|  5.0|  5.0|  5.0|  5.0|  0.0|POLYGON ((2569137...|\n",
            "|1600100010066010|  4.0|  4.0|  4.0|  4.0|  0.0|POLYGON ((2570157...|\n",
            "|1600100010066019|  0.0|  0.0|  0.0|  0.0|  0.0|POLYGON ((2570011...|\n",
            "|1600100010066023|  3.0|  3.0|  3.0|  3.0|  0.0|POLYGON ((2569868...|\n",
            "|1600100010070005| 18.0| 18.0| 18.0| 18.0|  6.0|POLYGON ((2569600...|\n",
            "|1600100010085002|  5.0|  5.0|  5.0|  3.0|  0.0|POLYGON ((2570165...|\n",
            "+----------------+-----+-----+-----+-----+-----+--------------------+\n",
            "only showing top 20 rows\n",
            "\n"
          ]
        }
      ],
      "source": [
        "# Limpieza de los datos negativos y nulos\n",
        "# Se tienen que cambiar los nombres de las columnas según los criterios elegidos\n",
        "\n",
        "BD_MZA_EEVVV_CORREGIDO = spark.sql((\"\"\"select \n",
        "                                  CVEGEO,\n",
        "                                  if( (isnull({V1}) or {V1} < 0 ), 0, {V1}) as {V1}, \n",
        "                                  if( (isnull({V2}) or {V2} < 0 ), 0, {V2}) as {V2},\n",
        "                                  if( (isnull({V3}) or {V3} < 0 ), 0, {V3}) as {V3},\n",
        "                                  if( (isnull({V4}) or {V4} < 0 ), 0, {V4}) as {V4},\n",
        "                                  if( (isnull({V5}) or {V5} < 0 ), 0, {V5}) as {V5},                                  \n",
        "                                  geometry\n",
        "                             from manzanas \"\"\").format(V1 = Var_INTERES[1], V2 = Var_INTERES[2], V3 = Var_INTERES[3], V4 = Var_INTERES[4], V5 = Var_INTERES[5]))\n",
        "BD_MZA_EEVVV_CORREGIDO.cache()\n",
        "BD_MZA_EEVVV_CORREGIDO.show()"
      ]
    },
    {
      "cell_type": "code",
      "execution_count": 92,
      "metadata": {
        "colab": {
          "base_uri": "https://localhost:8080/"
        },
        "id": "3rFEG621WoDG",
        "outputId": "849bd62b-c2fd-4356-cf8d-8e6bb0dd3001"
      },
      "outputs": [
        {
          "name": "stdout",
          "output_type": "stream",
          "text": [
            "+----------------+-----+-----+-----+-----+-----+--------------------+--------------------+\n",
            "|          CVEGEO|VIV17|VIV23|VIV25|VIV90|VIV91|            geometry|            features|\n",
            "+----------------+-----+-----+-----+-----+-----+--------------------+--------------------+\n",
            "|1600100010028010| 19.0| 19.0| 19.0| 17.0|  5.0|POLYGON ((2569921...|[19.0,19.0,19.0,1...|\n",
            "|1600100010028011| 16.0| 16.0| 16.0| 13.0|  7.0|POLYGON ((2569921...|[16.0,16.0,16.0,1...|\n",
            "|1600100010028012| 24.0| 24.0| 24.0| 23.0| 15.0|POLYGON ((2569754...|[24.0,24.0,24.0,2...|\n",
            "|1600100010028013|  7.0|  7.0|  7.0|  7.0|  4.0|POLYGON ((2569753...|[7.0,7.0,7.0,7.0,...|\n",
            "|1600100010028028| 24.0| 24.0| 24.0| 23.0|  8.0|POLYGON ((2569690...|[24.0,24.0,24.0,2...|\n",
            "|1600100010028042| 12.0| 12.0| 12.0| 11.0|  0.0|POLYGON ((2570201...|[12.0,12.0,12.0,1...|\n",
            "|1600100010028050| 19.0| 17.0| 17.0| 14.0|  0.0|POLYGON ((2569382...|[19.0,17.0,17.0,1...|\n",
            "|1600100010051001| 11.0| 11.0| 11.0| 10.0|  5.0|POLYGON ((2569103...|[11.0,11.0,11.0,1...|\n",
            "|1600100010051009| 12.0| 12.0| 12.0| 12.0|  4.0|POLYGON ((2569360...|[12.0,12.0,12.0,1...|\n",
            "|1600100010051011| 12.0| 12.0| 12.0|  8.0|  6.0|POLYGON ((2568788...|[12.0,12.0,12.0,8...|\n",
            "|1600100010051012|  5.0|  5.0|  5.0|  4.0|  0.0|POLYGON ((2568908...|[5.0,5.0,5.0,4.0,...|\n",
            "|1600100010051016|  6.0|  6.0|  6.0|  5.0|  0.0|POLYGON ((2569520...|[6.0,6.0,6.0,5.0,...|\n",
            "|1600100010051018|  5.0|  5.0|  5.0|  5.0|  0.0|POLYGON ((2568978...|[5.0,5.0,5.0,5.0,...|\n",
            "|1600100010051023| 23.0| 24.0| 23.0| 18.0|  7.0|POLYGON ((2569249...|[23.0,24.0,23.0,1...|\n",
            "|1600100010051024|  5.0|  5.0|  5.0|  5.0|  0.0|POLYGON ((2569137...|[5.0,5.0,5.0,5.0,...|\n",
            "|1600100010066010|  4.0|  4.0|  4.0|  4.0|  0.0|POLYGON ((2570157...|[4.0,4.0,4.0,4.0,...|\n",
            "|1600100010066019|  0.0|  0.0|  0.0|  0.0|  0.0|POLYGON ((2570011...|           (5,[],[])|\n",
            "|1600100010066023|  3.0|  3.0|  3.0|  3.0|  0.0|POLYGON ((2569868...|[3.0,3.0,3.0,3.0,...|\n",
            "|1600100010070005| 18.0| 18.0| 18.0| 18.0|  6.0|POLYGON ((2569600...|[18.0,18.0,18.0,1...|\n",
            "|1600100010085002|  5.0|  5.0|  5.0|  3.0|  0.0|POLYGON ((2570165...|[5.0,5.0,5.0,3.0,...|\n",
            "+----------------+-----+-----+-----+-----+-----+--------------------+--------------------+\n",
            "only showing top 20 rows\n",
            "\n"
          ]
        }
      ],
      "source": [
        "# VectorAssembler: A feature transformer that merges multiple columns into a vector column.\n",
        "from pyspark.ml.feature import VectorAssembler \n",
        "from pyspark.ml.clustering import KMeans # Importamos el algoritmo de K.means\n",
        "\n",
        "\n",
        "# Transformar las múltiples columnas en un solo vector columna\n",
        "# Esto se hace por las necesidades de pyspark\n",
        "\n",
        "vecAssembler = VectorAssembler(inputCols=Var_INTERES[1:6], outputCol=\"features\")\n",
        "BD_MZA_EEVVV_CORREGIDO_VEC = vecAssembler.transform(BD_MZA_EEVVV_CORREGIDO)\n",
        "BD_MZA_EEVVV_CORREGIDO_VEC.cache()\n",
        "BD_MZA_EEVVV_CORREGIDO_VEC.show()"
      ]
    },
    {
      "cell_type": "markdown",
      "metadata": {
        "id": "5t4Ub7MdayBe"
      },
      "source": [
        "## Implementación de algoritmo de aprendizaje no supervisado: K means\n",
        "\n",
        "Con la base de datos limpia y pre trabajada, podemos proceder al primer análisis. En este caso se implementa un algoritmo de aprendizaje no supervisado: K-means.\n",
        "\n",
        "\n",
        "\n",
        "k-means clustering is a method of vector quantization, originally from signal processing, that aims to partition n observations into k clusters in which each observation belongs to the cluster with the nearest mean (cluster centers or cluster centroid), serving as a prototype of the cluster. This results in a partitioning of the data space into Voronoi cells. k-means clustering minimizes within-cluster variances (squared Euclidean distances), but not regular Euclidean distances.\n",
        "\n",
        "\n",
        "Obtenido de: \n",
        "https://en.wikipedia.org/wiki/K-means_clustering\n",
        "\n",
        "\n"
      ]
    },
    {
      "cell_type": "code",
      "execution_count": 93,
      "metadata": {
        "colab": {
          "base_uri": "https://localhost:8080/"
        },
        "id": "XwBDIEJqW2FN",
        "outputId": "3191b679-2671-4f1d-f42f-a963e11c1b53"
      },
      "outputs": [
        {
          "name": "stdout",
          "output_type": "stream",
          "text": [
            "+----------------+-----+-----+-----+-----+-----+--------------------+--------------------+----------+\n",
            "|          CVEGEO|VIV17|VIV23|VIV25|VIV90|VIV91|            geometry|            features|prediction|\n",
            "+----------------+-----+-----+-----+-----+-----+--------------------+--------------------+----------+\n",
            "|1600100010028010| 19.0| 19.0| 19.0| 17.0|  5.0|POLYGON ((2569921...|[19.0,19.0,19.0,1...|         3|\n",
            "|1600100010028011| 16.0| 16.0| 16.0| 13.0|  7.0|POLYGON ((2569921...|[16.0,16.0,16.0,1...|         3|\n",
            "|1600100010028012| 24.0| 24.0| 24.0| 23.0| 15.0|POLYGON ((2569754...|[24.0,24.0,24.0,2...|         2|\n",
            "|1600100010028013|  7.0|  7.0|  7.0|  7.0|  4.0|POLYGON ((2569753...|[7.0,7.0,7.0,7.0,...|         1|\n",
            "|1600100010028028| 24.0| 24.0| 24.0| 23.0|  8.0|POLYGON ((2569690...|[24.0,24.0,24.0,2...|         3|\n",
            "|1600100010028042| 12.0| 12.0| 12.0| 11.0|  0.0|POLYGON ((2570201...|[12.0,12.0,12.0,1...|         3|\n",
            "|1600100010028050| 19.0| 17.0| 17.0| 14.0|  0.0|POLYGON ((2569382...|[19.0,17.0,17.0,1...|         3|\n",
            "|1600100010051001| 11.0| 11.0| 11.0| 10.0|  5.0|POLYGON ((2569103...|[11.0,11.0,11.0,1...|         3|\n",
            "|1600100010051009| 12.0| 12.0| 12.0| 12.0|  4.0|POLYGON ((2569360...|[12.0,12.0,12.0,1...|         3|\n",
            "|1600100010051011| 12.0| 12.0| 12.0|  8.0|  6.0|POLYGON ((2568788...|[12.0,12.0,12.0,8...|         3|\n",
            "|1600100010051012|  5.0|  5.0|  5.0|  4.0|  0.0|POLYGON ((2568908...|[5.0,5.0,5.0,4.0,...|         1|\n",
            "|1600100010051016|  6.0|  6.0|  6.0|  5.0|  0.0|POLYGON ((2569520...|[6.0,6.0,6.0,5.0,...|         1|\n",
            "|1600100010051018|  5.0|  5.0|  5.0|  5.0|  0.0|POLYGON ((2568978...|[5.0,5.0,5.0,5.0,...|         1|\n",
            "|1600100010051023| 23.0| 24.0| 23.0| 18.0|  7.0|POLYGON ((2569249...|[23.0,24.0,23.0,1...|         3|\n",
            "|1600100010051024|  5.0|  5.0|  5.0|  5.0|  0.0|POLYGON ((2569137...|[5.0,5.0,5.0,5.0,...|         1|\n",
            "|1600100010066010|  4.0|  4.0|  4.0|  4.0|  0.0|POLYGON ((2570157...|[4.0,4.0,4.0,4.0,...|         1|\n",
            "|1600100010066019|  0.0|  0.0|  0.0|  0.0|  0.0|POLYGON ((2570011...|           (5,[],[])|         1|\n",
            "|1600100010066023|  3.0|  3.0|  3.0|  3.0|  0.0|POLYGON ((2569868...|[3.0,3.0,3.0,3.0,...|         1|\n",
            "|1600100010070005| 18.0| 18.0| 18.0| 18.0|  6.0|POLYGON ((2569600...|[18.0,18.0,18.0,1...|         3|\n",
            "|1600100010085002|  5.0|  5.0|  5.0|  3.0|  0.0|POLYGON ((2570165...|[5.0,5.0,5.0,3.0,...|         1|\n",
            "+----------------+-----+-----+-----+-----+-----+--------------------+--------------------+----------+\n",
            "only showing top 20 rows\n",
            "\n"
          ]
        }
      ],
      "source": [
        "kmeans = KMeans(k=5, seed=1, maxIter=250) \n",
        "model = kmeans.fit(BD_MZA_EEVVV_CORREGIDO_VEC.select('features'))\n",
        "transformed = model.transform(BD_MZA_EEVVV_CORREGIDO_VEC)\n",
        "transformed.show() # Mostramos solo 10 celdas"
      ]
    },
    {
      "cell_type": "code",
      "execution_count": 94,
      "metadata": {
        "colab": {
          "base_uri": "https://localhost:8080/"
        },
        "id": "tTHOhfYQYkBO",
        "outputId": "db308eb3-c26a-450a-c4d8-d114f61c0301"
      },
      "outputs": [
        {
          "name": "stdout",
          "output_type": "stream",
          "text": [
            "+----------+------------------+------------------+-------------------------+------------------+------------------+------+\n",
            "|prediction|mean_Si_Agua_Entub|   mean_Si_Drenaje|mean_Si_Elec_Agua_Drenaje|    mean_Si_Tinaco|  mean_Si_Cisterna|conteo|\n",
            "+----------+------------------+------------------+-------------------------+------------------+------------------+------+\n",
            "|         1|3.3175294216779485|3.3520489846361263|        3.149818835491391| 2.458219812937112|0.9599471954610567| 35603|\n",
            "|         3|15.902366083208726|  15.7975195707626|       15.599964816606562|12.986102559591872| 5.868282170815375| 22738|\n",
            "|         2| 34.09718514923562| 33.96056782334385|        33.75054598398447| 29.69570492598884|12.405848095122543|  8242|\n",
            "|         0| 71.06680161943319| 70.94264507422402|        70.60121457489879| 62.31781376518219|25.341430499325234|  1482|\n",
            "|         4|181.90344827586208| 181.8896551724138|       180.83448275862068| 164.0344827586207| 76.17931034482758|   145|\n",
            "+----------+------------------+------------------+-------------------------+------------------+------------------+------+\n",
            "\n"
          ]
        }
      ],
      "source": [
        "# Editar el \"order by mean_No_Agua_Entub\"\n",
        "\n",
        "# Crea o reemplaza una vista temporal local con este DataFrame.\n",
        "# La duración de esta tabla temporal está vinculada a la SparkSession que se usó para crear este DataFrame.\n",
        "\n",
        "transformed.createOrReplaceTempView(\"result_kmeans\")\n",
        "\n",
        "# Se colocan los clusters con los skssikkjjjkjkkjjkxjksjjbjbjddddnjkDBDKBDKJDBKSDBDKDBSDBSKDBSKJDBSKHBGDJKSBDJKBSJDSKDBJHSASBKHSADBFKKFIKBSDJFAHU\n",
        "clusters = spark.sql((\"\"\" select prediction, \n",
        "    mean({V1}) as mean_Si_Agua_Entub, \n",
        "    mean({V2}) as mean_Si_Drenaje,\n",
        "    mean({V3}) as mean_Si_Elec_Agua_Drenaje,\n",
        "    mean({V4}) as mean_Si_Tinaco,\n",
        "    mean({V5}) as mean_Si_Cisterna,\n",
        "    count(*) as conteo\n",
        "from result_kmeans group by prediction order by mean_Si_Agua_Entub\"\"\").format(V1 = Var_INTERES[1], V2 = Var_INTERES[2], V3 = Var_INTERES[3], V4 = Var_INTERES[4], V5 = Var_INTERES[5]))\n",
        "\n",
        "clusters.show()"
      ]
    },
    {
      "cell_type": "code",
      "execution_count": 105,
      "metadata": {
        "colab": {
          "base_uri": "https://localhost:8080/",
          "height": 206
        },
        "id": "U62w-_g9Y1qV",
        "outputId": "2d49049e-7352-4e64-a4fc-b337b329f5f6"
      },
      "outputs": [
        {
          "data": {
            "text/html": [
              "\n",
              "  <div id=\"df-490f94f7-4e88-4e5c-b527-cb8276a3a587\">\n",
              "    <div class=\"colab-df-container\">\n",
              "      <div>\n",
              "<style scoped>\n",
              "    .dataframe tbody tr th:only-of-type {\n",
              "        vertical-align: middle;\n",
              "    }\n",
              "\n",
              "    .dataframe tbody tr th {\n",
              "        vertical-align: top;\n",
              "    }\n",
              "\n",
              "    .dataframe thead th {\n",
              "        text-align: right;\n",
              "    }\n",
              "</style>\n",
              "<table border=\"1\" class=\"dataframe\">\n",
              "  <thead>\n",
              "    <tr style=\"text-align: right;\">\n",
              "      <th></th>\n",
              "      <th>prediction</th>\n",
              "      <th>mean_Si_Agua_Entub</th>\n",
              "      <th>mean_Si_Drenaje</th>\n",
              "      <th>mean_Si_Elec_Agua_Drenaje</th>\n",
              "      <th>mean_Si_Tinaco</th>\n",
              "      <th>mean_Si_Cisterna</th>\n",
              "      <th>conteo</th>\n",
              "    </tr>\n",
              "  </thead>\n",
              "  <tbody>\n",
              "    <tr>\n",
              "      <th>0</th>\n",
              "      <td>1</td>\n",
              "      <td>3.317529</td>\n",
              "      <td>3.352049</td>\n",
              "      <td>3.149819</td>\n",
              "      <td>2.458220</td>\n",
              "      <td>0.959947</td>\n",
              "      <td>35603</td>\n",
              "    </tr>\n",
              "    <tr>\n",
              "      <th>1</th>\n",
              "      <td>3</td>\n",
              "      <td>15.902366</td>\n",
              "      <td>15.797520</td>\n",
              "      <td>15.599965</td>\n",
              "      <td>12.986103</td>\n",
              "      <td>5.868282</td>\n",
              "      <td>22738</td>\n",
              "    </tr>\n",
              "    <tr>\n",
              "      <th>2</th>\n",
              "      <td>2</td>\n",
              "      <td>34.097185</td>\n",
              "      <td>33.960568</td>\n",
              "      <td>33.750546</td>\n",
              "      <td>29.695705</td>\n",
              "      <td>12.405848</td>\n",
              "      <td>8242</td>\n",
              "    </tr>\n",
              "    <tr>\n",
              "      <th>3</th>\n",
              "      <td>0</td>\n",
              "      <td>71.066802</td>\n",
              "      <td>70.942645</td>\n",
              "      <td>70.601215</td>\n",
              "      <td>62.317814</td>\n",
              "      <td>25.341430</td>\n",
              "      <td>1482</td>\n",
              "    </tr>\n",
              "    <tr>\n",
              "      <th>4</th>\n",
              "      <td>4</td>\n",
              "      <td>181.903448</td>\n",
              "      <td>181.889655</td>\n",
              "      <td>180.834483</td>\n",
              "      <td>164.034483</td>\n",
              "      <td>76.179310</td>\n",
              "      <td>145</td>\n",
              "    </tr>\n",
              "  </tbody>\n",
              "</table>\n",
              "</div>\n",
              "      <button class=\"colab-df-convert\" onclick=\"convertToInteractive('df-490f94f7-4e88-4e5c-b527-cb8276a3a587')\"\n",
              "              title=\"Convert this dataframe to an interactive table.\"\n",
              "              style=\"display:none;\">\n",
              "        \n",
              "  <svg xmlns=\"http://www.w3.org/2000/svg\" height=\"24px\"viewBox=\"0 0 24 24\"\n",
              "       width=\"24px\">\n",
              "    <path d=\"M0 0h24v24H0V0z\" fill=\"none\"/>\n",
              "    <path d=\"M18.56 5.44l.94 2.06.94-2.06 2.06-.94-2.06-.94-.94-2.06-.94 2.06-2.06.94zm-11 1L8.5 8.5l.94-2.06 2.06-.94-2.06-.94L8.5 2.5l-.94 2.06-2.06.94zm10 10l.94 2.06.94-2.06 2.06-.94-2.06-.94-.94-2.06-.94 2.06-2.06.94z\"/><path d=\"M17.41 7.96l-1.37-1.37c-.4-.4-.92-.59-1.43-.59-.52 0-1.04.2-1.43.59L10.3 9.45l-7.72 7.72c-.78.78-.78 2.05 0 2.83L4 21.41c.39.39.9.59 1.41.59.51 0 1.02-.2 1.41-.59l7.78-7.78 2.81-2.81c.8-.78.8-2.07 0-2.86zM5.41 20L4 18.59l7.72-7.72 1.47 1.35L5.41 20z\"/>\n",
              "  </svg>\n",
              "      </button>\n",
              "      \n",
              "  <style>\n",
              "    .colab-df-container {\n",
              "      display:flex;\n",
              "      flex-wrap:wrap;\n",
              "      gap: 12px;\n",
              "    }\n",
              "\n",
              "    .colab-df-convert {\n",
              "      background-color: #E8F0FE;\n",
              "      border: none;\n",
              "      border-radius: 50%;\n",
              "      cursor: pointer;\n",
              "      display: none;\n",
              "      fill: #1967D2;\n",
              "      height: 32px;\n",
              "      padding: 0 0 0 0;\n",
              "      width: 32px;\n",
              "    }\n",
              "\n",
              "    .colab-df-convert:hover {\n",
              "      background-color: #E2EBFA;\n",
              "      box-shadow: 0px 1px 2px rgba(60, 64, 67, 0.3), 0px 1px 3px 1px rgba(60, 64, 67, 0.15);\n",
              "      fill: #174EA6;\n",
              "    }\n",
              "\n",
              "    [theme=dark] .colab-df-convert {\n",
              "      background-color: #3B4455;\n",
              "      fill: #D2E3FC;\n",
              "    }\n",
              "\n",
              "    [theme=dark] .colab-df-convert:hover {\n",
              "      background-color: #434B5C;\n",
              "      box-shadow: 0px 1px 3px 1px rgba(0, 0, 0, 0.15);\n",
              "      filter: drop-shadow(0px 1px 2px rgba(0, 0, 0, 0.3));\n",
              "      fill: #FFFFFF;\n",
              "    }\n",
              "  </style>\n",
              "\n",
              "      <script>\n",
              "        const buttonEl =\n",
              "          document.querySelector('#df-490f94f7-4e88-4e5c-b527-cb8276a3a587 button.colab-df-convert');\n",
              "        buttonEl.style.display =\n",
              "          google.colab.kernel.accessAllowed ? 'block' : 'none';\n",
              "\n",
              "        async function convertToInteractive(key) {\n",
              "          const element = document.querySelector('#df-490f94f7-4e88-4e5c-b527-cb8276a3a587');\n",
              "          const dataTable =\n",
              "            await google.colab.kernel.invokeFunction('convertToInteractive',\n",
              "                                                     [key], {});\n",
              "          if (!dataTable) return;\n",
              "\n",
              "          const docLinkHtml = 'Like what you see? Visit the ' +\n",
              "            '<a target=\"_blank\" href=https://colab.research.google.com/notebooks/data_table.ipynb>data table notebook</a>'\n",
              "            + ' to learn more about interactive tables.';\n",
              "          element.innerHTML = '';\n",
              "          dataTable['output_type'] = 'display_data';\n",
              "          await google.colab.output.renderOutput(dataTable, element);\n",
              "          const docLink = document.createElement('div');\n",
              "          docLink.innerHTML = docLinkHtml;\n",
              "          element.appendChild(docLink);\n",
              "        }\n",
              "      </script>\n",
              "    </div>\n",
              "  </div>\n",
              "  "
            ],
            "text/plain": [
              "   prediction  mean_Si_Agua_Entub  mean_Si_Drenaje  mean_Si_Elec_Agua_Drenaje  \\\n",
              "0           1            3.317529         3.352049                   3.149819   \n",
              "1           3           15.902366        15.797520                  15.599965   \n",
              "2           2           34.097185        33.960568                  33.750546   \n",
              "3           0           71.066802        70.942645                  70.601215   \n",
              "4           4          181.903448       181.889655                 180.834483   \n",
              "\n",
              "   mean_Si_Tinaco  mean_Si_Cisterna  conteo  \n",
              "0        2.458220          0.959947   35603  \n",
              "1       12.986103          5.868282   22738  \n",
              "2       29.695705         12.405848    8242  \n",
              "3       62.317814         25.341430    1482  \n",
              "4      164.034483         76.179310     145  "
            ]
          },
          "execution_count": 105,
          "metadata": {},
          "output_type": "execute_result"
        }
      ],
      "source": [
        "# Pasamos los clusters de un SQL a un DataFrame\n",
        "\n",
        "df_clusters = clusters.toPandas()\n",
        "df_clusters"
      ]
    },
    {
      "cell_type": "code",
      "execution_count": 96,
      "metadata": {
        "id": "U12mjX-9g1e8"
      },
      "outputs": [],
      "source": [
        "# Importamos las librerías de manipulación numérica (numpy) y para graficar (matplotlib).\n",
        "\n",
        "import numpy as np\n",
        "import matplotlib.pyplot as plt"
      ]
    },
    {
      "cell_type": "code",
      "execution_count": 98,
      "metadata": {
        "colab": {
          "base_uri": "https://localhost:8080/",
          "height": 628
        },
        "id": "MYXzDJBBcFuj",
        "outputId": "bc96437b-8300-4da2-ae40-665c360952ec"
      },
      "outputs": [
        {
          "data": {
            "image/png": "[encoded data removed]",
            "text/plain": [
              "<Figure size 720x720 with 1 Axes>"
            ]
          },
          "metadata": {
            "needs_background": "light"
          },
          "output_type": "display_data"
        }
      ],
      "source": [
        "# Se definen los datos a graficar\n",
        "\n",
        "categories = df_clusters.columns[1:-1].values\n",
        "cluster_0 = df_clusters.where(df_clusters.prediction==0).dropna().values[0][1:-1]\n",
        "cluster_1 = df_clusters.where(df_clusters.prediction==1).dropna().values[0][1:-1]\n",
        "cluster_2 = df_clusters.where(df_clusters.prediction==2).dropna().values[0][1:-1]\n",
        "cluster_3 = df_clusters.where(df_clusters.prediction==3).dropna().values[0][1:-1]\n",
        "cluster_4 = df_clusters.where(df_clusters.prediction==4).dropna().values[0][1:-1]\n",
        "\n",
        "cluster_0 = [*cluster_0,cluster_0[0]]\n",
        "cluster_1 = [*cluster_1,cluster_1[0]]\n",
        "cluster_2 = [*cluster_2,cluster_2[0]]\n",
        "cluster_3 = [*cluster_3,cluster_3[0]]\n",
        "cluster_4 = [*cluster_4,cluster_4[0]]\n",
        "\n",
        "label_loc = np.linspace(start=0, stop=2 * np.pi, num=len(cluster_0))\n",
        "\n",
        "plt.figure(figsize=(10, 10)) # Se crea la figura\n",
        "plt.subplot(polar=True) \n",
        "plt.plot(label_loc, cluster_0, label='Cluster 0')\n",
        "plt.plot(label_loc, cluster_1, label='Cluster 1')\n",
        "plt.plot(label_loc, cluster_2, label='Cluster 2')\n",
        "plt.plot(label_loc, cluster_3, label='Cluster 3')\n",
        "plt.plot(label_loc, cluster_4, label='Cluster 4')\n",
        "plt.title('Comparacion de clusters de Morelia', size=20)\n",
        "lines, labels = plt.thetagrids(np.degrees(label_loc), labels=categories)\n",
        "plt.legend()\n",
        "plt.show()"
      ]
    },
    {
      "cell_type": "markdown",
      "metadata": {
        "id": "-voPUaSvouK2"
      },
      "source": [
        "# Visualización de datos (Mapa de Manzanas con servicios de Agua y Sanidad)\n",
        "\n",
        "Se generan mapas del estado seleccionado (Michoacán) para ver el comportamiento geográfico de las variables seleccionadas.\n",
        "\n"
      ]
    },
    {
      "cell_type": "code",
      "execution_count": 99,
      "metadata": {
        "id": "jFMJFdXTcIVk"
      },
      "outputs": [],
      "source": [
        "# Definimos un SQL con las variables y los resultados de la predicción\n",
        "df_manzanas = spark.sql((\"\"\"select {V1} as Si_Agua_Entub,\n",
        "                                  {V2} as Si_Drenaje,\n",
        "                                  {V3} as Si_Elec_Agua_Drenaje,\n",
        "                                  {V4} as Si_Tinaco,\n",
        "                                  {V5} as Si_Cisterna,\n",
        "                                  geometry,\n",
        "                                  prediction \n",
        "                           from result_kmeans\"\"\").format(V1 = Var_INTERES[1], V2 = Var_INTERES[2], V3 = Var_INTERES[3], V4 = Var_INTERES[4], V5 = Var_INTERES[5])).toPandas()\n",
        "\n",
        "\n",
        "# Creamos un GeoDataFrame\n",
        "# Un objeto GeoDataFrame es un pandas.DataFrame que tiene una columna con geometría. \n",
        "# Además de los argumentos estándar del constructor de DataFrame, \n",
        "# GeoDataFrame también acepta los siguientes argumentos de palabras clave:\n",
        "geopandas_df_grid = gpd.GeoDataFrame(df_manzanas, geometry=\"geometry\")\n",
        "\n",
        "\n",
        "\n",
        "# geopandas_df_grid.set_crs Configure el Sistema de referencia de coordenadas (CRS) del GeoDataFrame.\n",
        "geopandas_df_grid = geopandas_df_grid.set_crs('PROJCS[\"Mexico_ITRF2008_LCC\",GEOGCS[\"Mexico_ITRF2008\",DATUM[\"Mexico_ITRF2008\",SPHEROID[\"GRS_1980\",6378137,298.257222101],TOWGS84[0,0,0,0,0,0,0]],PRIMEM[\"Greenwich\",0],UNIT[\"Degree\",0.0174532925199433]],PROJECTION[\"Lambert_Conformal_Conic_2SP\",AUTHORITY[\"EPSG\",\"9802\"]],PARAMETER[\"Central_Meridian\",-102],PARAMETER[\"Latitude_Of_Origin\",12],PARAMETER[\"False_Easting\",2500000],PARAMETER[\"False_Northing\",0],PARAMETER[\"Standard_Parallel_1\",17.5],PARAMETER[\"Standard_Parallel_2\",29.5],PARAMETER[\"Scale_Factor\",1],UNIT[\"Meter\",1,AUTHORITY[\"EPSG\",\"9001\"]],AUTHORITY[\"EPSG\",\"6372\"]]')\n",
        "\n",
        "# geopandas_df_grid.to_crs transforma geometrías a un nuevo sistema de referencia de coordenadas.\n",
        "geopandas_df_grid = geopandas_df_grid.to_crs(\"EPSG:4326\")\n",
        "#geopandas_df_grid.to_file(\"/content/drive/MyDrive/GeoBigDataNube2022/resultados/manzanas_kmeans.shp\")"
      ]
    },
    {
      "cell_type": "code",
      "execution_count": 100,
      "metadata": {
        "id": "rjTpDsInPW_H"
      },
      "outputs": [],
      "source": [
        "# Folium es la biblioteca que permite la visualización de mapas interactivos\n",
        "import folium"
      ]
    },
    {
      "cell_type": "code",
      "execution_count": 101,
      "metadata": {
        "id": "2Hfus1KRUfyr"
      },
      "outputs": [],
      "source": [
        "# Definimos el color para cada uno de los clusters, segun resultaron del k-means\n",
        "\n",
        "def rank_colormap(gdf):\n",
        "  if gdf['properties']['prediction'] is 4:\n",
        "    return 'blue'\n",
        "  if gdf['properties']['prediction'] is 3:\n",
        "    return 'green'\n",
        "  if gdf['properties']['prediction'] is 2:\n",
        "    return 'yellow'\n",
        "  if gdf['properties']['prediction'] is 1:\n",
        "    return 'orange'\n",
        "  if gdf['properties']['prediction'] is 0:\n",
        "    return 'red'"
      ]
    },
    {
      "cell_type": "code",
      "execution_count": 102,
      "metadata": {
        "colab": {
          "base_uri": "https://localhost:8080/"
        },
        "id": "P7tjSw92VEPk",
        "outputId": "5678852c-531b-451a-88f2-ee9d68a52b67"
      },
      "outputs": [
        {
          "data": {
            "text/plain": [
              "<folium.features.GeoJson at 0x7f68fc6d4990>"
            ]
          },
          "execution_count": 102,
          "metadata": {},
          "output_type": "execute_result"
        }
      ],
      "source": [
        "# Morelia 19.7059504, -101.1949825\n",
        "# Aguascalientes 21.8852562,-102.2915677\n",
        "# Nuevo Leon 25.6507071,-100.2866162\n",
        "\n",
        "m = folium.Map(location=[19.7059504, -101.1949825], zoom_start=14)\n",
        "\n",
        "folium.GeoJson(data = geopandas_df_grid, name=\"Estratos\",style_function = lambda feature: {\n",
        "   'fillColor': rank_colormap(feature),\n",
        "   'color': rank_colormap(feature),\n",
        "   'weight': '0.5',\n",
        "   'fill': True,\n",
        "   'fill_opacity': '1'\n",
        "}).add_to(m)"
      ]
    },
    {
      "cell_type": "code",
      "execution_count": 103,
      "metadata": {
        "id": "ZaRpyscyVGRX"
      },
      "outputs": [],
      "source": [
        "# Guardado del mapa debido a que Collab no lo soporta\n",
        "m.save(\"mapMICH.html\")\n",
        "#webbrowser.open(\"mapNL.html\")"
      ]
    },
    {
      "cell_type": "markdown",
      "metadata": {
        "id": "BM-xENrOg2-x"
      },
      "source": [
        "# Estadística"
      ]
    },
    {
      "cell_type": "code",
      "execution_count": 161,
      "metadata": {
        "colab": {
          "base_uri": "https://localhost:8080/"
        },
        "id": "7xl3WSTJVmRC",
        "outputId": "41ca7e21-d074-4847-de3b-cfb992364f3a"
      },
      "outputs": [
        {
          "name": "stdout",
          "output_type": "stream",
          "text": [
            "root\n",
            " |-- VIV17_R: double (nullable = true)\n",
            " |-- ECO1_R: double (nullable = true)\n",
            "\n",
            "+-------+------+\n",
            "|VIV17_R|ECO1_R|\n",
            "+-------+------+\n",
            "|  100.0|  52.7|\n",
            "|  100.0|  67.3|\n",
            "|  100.0|  61.8|\n",
            "|  100.0|  58.8|\n",
            "|  100.0|  55.4|\n",
            "|  100.0|  60.0|\n",
            "|  100.0|  62.7|\n",
            "|  100.0|  44.2|\n",
            "|  100.0|  56.8|\n",
            "|  100.0|  58.8|\n",
            "|  100.0|  55.6|\n",
            "|  100.0|  41.7|\n",
            "|  100.0|  60.0|\n",
            "|   95.8|  47.9|\n",
            "|  100.0|  71.4|\n",
            "|  100.0|  54.5|\n",
            "|   -8.0|  -8.0|\n",
            "|  100.0|  62.5|\n",
            "|  100.0|  55.7|\n",
            "|  100.0|  61.1|\n",
            "+-------+------+\n",
            "only showing top 20 rows\n",
            "\n"
          ]
        }
      ],
      "source": [
        "BD_MANZANAS = spark.read.parquet(f\"/content/SCINCE_Parquets/SCINCE_Parquets/16_MICH.parquet\")\n",
        "\n",
        "\n",
        "\n",
        "Var_INTERES = ['VIV17_R','ECO1_R']\n",
        "\n",
        "# Seleccionamos las columnas de interés del archivo parquet\n",
        "BD_MANZANAS_EEVVV = BD_MANZANAS.select(Var_INTERES)\n",
        "# Explicación de caché en la celda de texto anterior\n",
        "BD_MANZANAS_EEVVV.cache()\n",
        "# Esquema con detalles de los datos en las columnas\n",
        "BD_MANZANAS_EEVVV.printSchema()\n",
        "\n",
        "# A DataFrame is equivalent to a relational table in Spark SQL, \n",
        "# and can be created using various functions in SparkSession\n",
        "BD_MANZANAS_EEVVV.show() # Mostramos el DataFrame\n",
        "\n",
        "\n",
        "BD_MANZANAS_EEVVV.createOrReplaceTempView(\"manzanas\")"
      ]
    },
    {
      "cell_type": "code",
      "execution_count": 172,
      "metadata": {
        "colab": {
          "base_uri": "https://localhost:8080/"
        },
        "id": "mCP8x5F4YzPw",
        "outputId": "77c35c64-8290-4642-9034-f6f9434c74fe"
      },
      "outputs": [
        {
          "name": "stdout",
          "output_type": "stream",
          "text": [
            "+-------+------+\n",
            "|VIV17_R|ECO1_R|\n",
            "+-------+------+\n",
            "|  100.0|  52.7|\n",
            "|  100.0|  67.3|\n",
            "|  100.0|  61.8|\n",
            "|  100.0|  58.8|\n",
            "|  100.0|  55.4|\n",
            "|  100.0|  60.0|\n",
            "|  100.0|  62.7|\n",
            "|  100.0|  44.2|\n",
            "|  100.0|  56.8|\n",
            "|  100.0|  58.8|\n",
            "|  100.0|  55.6|\n",
            "|  100.0|  41.7|\n",
            "|  100.0|  60.0|\n",
            "|   95.8|  47.9|\n",
            "|  100.0|  71.4|\n",
            "|  100.0|  54.5|\n",
            "|    0.0|   0.0|\n",
            "|  100.0|  62.5|\n",
            "|  100.0|  55.7|\n",
            "|  100.0|  61.1|\n",
            "+-------+------+\n",
            "only showing top 20 rows\n",
            "\n"
          ]
        }
      ],
      "source": [
        "\n",
        "BD_MZA_EEVVV_CORREGIDO = spark.sql((\"\"\"select\n",
        "                                  if( (isnull({V1}) or {V1} < 0 ), 0, {V1}) as {V1}, \n",
        "                                  if( (isnull({V2}) or {V2} < 0 ), 0, {V2}) as {V2}\n",
        "                             from manzanas \"\"\").format(V1 = Var_INTERES[0], V2 = Var_INTERES[1]))\n",
        "BD_MZA_EEVVV_CORREGIDO.cache()\n",
        "BD_MZA_EEVVV_CORREGIDO.show()"
      ]
    },
    {
      "cell_type": "code",
      "execution_count": 163,
      "metadata": {
        "colab": {
          "base_uri": "https://localhost:8080/",
          "height": 424
        },
        "id": "wZqEe7ltaluq",
        "outputId": "d267d5b9-c4c5-480a-93a1-a83a79047c03"
      },
      "outputs": [
        {
          "data": {
            "text/html": [
              "\n",
              "  <div id=\"df-4a7aaa59-8c96-4779-bc9c-56e610003c89\">\n",
              "    <div class=\"colab-df-container\">\n",
              "      <div>\n",
              "<style scoped>\n",
              "    .dataframe tbody tr th:only-of-type {\n",
              "        vertical-align: middle;\n",
              "    }\n",
              "\n",
              "    .dataframe tbody tr th {\n",
              "        vertical-align: top;\n",
              "    }\n",
              "\n",
              "    .dataframe thead th {\n",
              "        text-align: right;\n",
              "    }\n",
              "</style>\n",
              "<table border=\"1\" class=\"dataframe\">\n",
              "  <thead>\n",
              "    <tr style=\"text-align: right;\">\n",
              "      <th></th>\n",
              "      <th>VIV17_R</th>\n",
              "      <th>ECO1_R</th>\n",
              "    </tr>\n",
              "  </thead>\n",
              "  <tbody>\n",
              "    <tr>\n",
              "      <th>0</th>\n",
              "      <td>100.0</td>\n",
              "      <td>52.7</td>\n",
              "    </tr>\n",
              "    <tr>\n",
              "      <th>1</th>\n",
              "      <td>100.0</td>\n",
              "      <td>67.3</td>\n",
              "    </tr>\n",
              "    <tr>\n",
              "      <th>2</th>\n",
              "      <td>100.0</td>\n",
              "      <td>61.8</td>\n",
              "    </tr>\n",
              "    <tr>\n",
              "      <th>3</th>\n",
              "      <td>100.0</td>\n",
              "      <td>58.8</td>\n",
              "    </tr>\n",
              "    <tr>\n",
              "      <th>4</th>\n",
              "      <td>100.0</td>\n",
              "      <td>55.4</td>\n",
              "    </tr>\n",
              "    <tr>\n",
              "      <th>...</th>\n",
              "      <td>...</td>\n",
              "      <td>...</td>\n",
              "    </tr>\n",
              "    <tr>\n",
              "      <th>68205</th>\n",
              "      <td>0.0</td>\n",
              "      <td>0.0</td>\n",
              "    </tr>\n",
              "    <tr>\n",
              "      <th>68206</th>\n",
              "      <td>0.0</td>\n",
              "      <td>0.0</td>\n",
              "    </tr>\n",
              "    <tr>\n",
              "      <th>68207</th>\n",
              "      <td>100.0</td>\n",
              "      <td>52.9</td>\n",
              "    </tr>\n",
              "    <tr>\n",
              "      <th>68208</th>\n",
              "      <td>100.0</td>\n",
              "      <td>80.0</td>\n",
              "    </tr>\n",
              "    <tr>\n",
              "      <th>68209</th>\n",
              "      <td>0.0</td>\n",
              "      <td>0.0</td>\n",
              "    </tr>\n",
              "  </tbody>\n",
              "</table>\n",
              "<p>68210 rows × 2 columns</p>\n",
              "</div>\n",
              "      <button class=\"colab-df-convert\" onclick=\"convertToInteractive('df-4a7aaa59-8c96-4779-bc9c-56e610003c89')\"\n",
              "              title=\"Convert this dataframe to an interactive table.\"\n",
              "              style=\"display:none;\">\n",
              "        \n",
              "  <svg xmlns=\"http://www.w3.org/2000/svg\" height=\"24px\"viewBox=\"0 0 24 24\"\n",
              "       width=\"24px\">\n",
              "    <path d=\"M0 0h24v24H0V0z\" fill=\"none\"/>\n",
              "    <path d=\"M18.56 5.44l.94 2.06.94-2.06 2.06-.94-2.06-.94-.94-2.06-.94 2.06-2.06.94zm-11 1L8.5 8.5l.94-2.06 2.06-.94-2.06-.94L8.5 2.5l-.94 2.06-2.06.94zm10 10l.94 2.06.94-2.06 2.06-.94-2.06-.94-.94-2.06-.94 2.06-2.06.94z\"/><path d=\"M17.41 7.96l-1.37-1.37c-.4-.4-.92-.59-1.43-.59-.52 0-1.04.2-1.43.59L10.3 9.45l-7.72 7.72c-.78.78-.78 2.05 0 2.83L4 21.41c.39.39.9.59 1.41.59.51 0 1.02-.2 1.41-.59l7.78-7.78 2.81-2.81c.8-.78.8-2.07 0-2.86zM5.41 20L4 18.59l7.72-7.72 1.47 1.35L5.41 20z\"/>\n",
              "  </svg>\n",
              "      </button>\n",
              "      \n",
              "  <style>\n",
              "    .colab-df-container {\n",
              "      display:flex;\n",
              "      flex-wrap:wrap;\n",
              "      gap: 12px;\n",
              "    }\n",
              "\n",
              "    .colab-df-convert {\n",
              "      background-color: #E8F0FE;\n",
              "      border: none;\n",
              "      border-radius: 50%;\n",
              "      cursor: pointer;\n",
              "      display: none;\n",
              "      fill: #1967D2;\n",
              "      height: 32px;\n",
              "      padding: 0 0 0 0;\n",
              "      width: 32px;\n",
              "    }\n",
              "\n",
              "    .colab-df-convert:hover {\n",
              "      background-color: #E2EBFA;\n",
              "      box-shadow: 0px 1px 2px rgba(60, 64, 67, 0.3), 0px 1px 3px 1px rgba(60, 64, 67, 0.15);\n",
              "      fill: #174EA6;\n",
              "    }\n",
              "\n",
              "    [theme=dark] .colab-df-convert {\n",
              "      background-color: #3B4455;\n",
              "      fill: #D2E3FC;\n",
              "    }\n",
              "\n",
              "    [theme=dark] .colab-df-convert:hover {\n",
              "      background-color: #434B5C;\n",
              "      box-shadow: 0px 1px 3px 1px rgba(0, 0, 0, 0.15);\n",
              "      filter: drop-shadow(0px 1px 2px rgba(0, 0, 0, 0.3));\n",
              "      fill: #FFFFFF;\n",
              "    }\n",
              "  </style>\n",
              "\n",
              "      <script>\n",
              "        const buttonEl =\n",
              "          document.querySelector('#df-4a7aaa59-8c96-4779-bc9c-56e610003c89 button.colab-df-convert');\n",
              "        buttonEl.style.display =\n",
              "          google.colab.kernel.accessAllowed ? 'block' : 'none';\n",
              "\n",
              "        async function convertToInteractive(key) {\n",
              "          const element = document.querySelector('#df-4a7aaa59-8c96-4779-bc9c-56e610003c89');\n",
              "          const dataTable =\n",
              "            await google.colab.kernel.invokeFunction('convertToInteractive',\n",
              "                                                     [key], {});\n",
              "          if (!dataTable) return;\n",
              "\n",
              "          const docLinkHtml = 'Like what you see? Visit the ' +\n",
              "            '<a target=\"_blank\" href=https://colab.research.google.com/notebooks/data_table.ipynb>data table notebook</a>'\n",
              "            + ' to learn more about interactive tables.';\n",
              "          element.innerHTML = '';\n",
              "          dataTable['output_type'] = 'display_data';\n",
              "          await google.colab.output.renderOutput(dataTable, element);\n",
              "          const docLink = document.createElement('div');\n",
              "          docLink.innerHTML = docLinkHtml;\n",
              "          element.appendChild(docLink);\n",
              "        }\n",
              "      </script>\n",
              "    </div>\n",
              "  </div>\n",
              "  "
            ],
            "text/plain": [
              "       VIV17_R  ECO1_R\n",
              "0        100.0    52.7\n",
              "1        100.0    67.3\n",
              "2        100.0    61.8\n",
              "3        100.0    58.8\n",
              "4        100.0    55.4\n",
              "...        ...     ...\n",
              "68205      0.0     0.0\n",
              "68206      0.0     0.0\n",
              "68207    100.0    52.9\n",
              "68208    100.0    80.0\n",
              "68209      0.0     0.0\n",
              "\n",
              "[68210 rows x 2 columns]"
            ]
          },
          "execution_count": 163,
          "metadata": {},
          "output_type": "execute_result"
        }
      ],
      "source": [
        "Comparison = BD_MZA_EEVVV_CORREGIDO.toPandas()\n",
        "Comparison"
      ]
    },
    {
      "cell_type": "code",
      "execution_count": 164,
      "metadata": {
        "colab": {
          "base_uri": "https://localhost:8080/",
          "height": 297
        },
        "id": "7jCEqPQ1a6BZ",
        "outputId": "aca32607-dbb5-438e-9d43-81c9de717f58"
      },
      "outputs": [
        {
          "data": {
            "text/plain": [
              "<Figure size 720x720 with 0 Axes>"
            ]
          },
          "metadata": {},
          "output_type": "display_data"
        },
        {
          "data": {
            "image/png": "[encoded data removed]",
            "text/plain": [
              "<Figure size 432x288 with 1 Axes>"
            ]
          },
          "metadata": {
            "needs_background": "light"
          },
          "output_type": "display_data"
        }
      ],
      "source": [
        "plt.figure(figsize=(10, 10)) # Se crea la figura\n",
        "Comparison.plot.scatter(y=\"VIV17_R\", x=\"ECO1_R\", alpha=0.5)\n",
        "plt.show()"
      ]
    },
    {
      "cell_type": "code",
      "execution_count": 168,
      "metadata": {
        "id": "4CwC984DgPGi"
      },
      "outputs": [],
      "source": [
        "from sklearn.linear_model import LinearRegression"
      ]
    },
    {
      "cell_type": "code",
      "execution_count": 169,
      "metadata": {
        "colab": {
          "base_uri": "https://localhost:8080/",
          "height": 265
        },
        "id": "e41wCRXzgbyh",
        "outputId": "7508a388-a7fc-4bc9-cb30-99c8fb2d39f9"
      },
      "outputs": [
        {
          "data": {
            "image/png": "[encoded data removed]",
            "text/plain": [
              "<Figure size 432x288 with 1 Axes>"
            ]
          },
          "metadata": {
            "needs_background": "light"
          },
          "output_type": "display_data"
        }
      ],
      "source": [
        "X = Comparison.iloc[:, 0].values.reshape(-1, 1)  # values converts it into a numpy array\n",
        "Y = Comparison.iloc[:, 1].values.reshape(-1, 1)  # -1 means that calculate the dimension of rows, but have 1 column\n",
        "\n",
        "linear_regressor = LinearRegression()  # create object for the class\n",
        "linear_regressor.fit(X, Y)  # perform linear regression\n",
        "Y_pred = linear_regressor.predict(X)  # make predictions\n",
        "\n",
        "plt.scatter(X, Y)\n",
        "plt.plot(X, Y_pred, color='red')\n",
        "plt.show()"
      ]
    },
    {
      "cell_type": "code",
      "execution_count": 148,
      "metadata": {
        "colab": {
          "base_uri": "https://localhost:8080/",
          "height": 283
        },
        "id": "JzZ2wpdHb0zb",
        "outputId": "4d7dcef3-69d5-44ca-db6b-1dce92e74fbf"
      },
      "outputs": [
        {
          "data": {
            "text/plain": [
              "<matplotlib.axes._subplots.AxesSubplot at 0x7f68a942cc50>"
            ]
          },
          "execution_count": 148,
          "metadata": {},
          "output_type": "execute_result"
        },
        {
          "data": {
            "image/png": "[encoded data removed]",
            "text/plain": [
              "<Figure size 432x288 with 1 Axes>"
            ]
          },
          "metadata": {
            "needs_background": "light"
          },
          "output_type": "display_data"
        }
      ],
      "source": [
        "Comparison.plot.box()"
      ]
    },
    {
      "cell_type": "markdown",
      "metadata": {
        "id": "xDnuiqchkDvk"
      },
      "source": [
        "# Análisis Descriptivo"
      ]
    },
    {
      "cell_type": "code",
      "execution_count": 173,
      "metadata": {
        "colab": {
          "base_uri": "https://localhost:8080/",
          "height": 333
        },
        "id": "jMXxkaPmeAFB",
        "outputId": "ffbbb9fb-4d11-4a4a-a442-a701712f97a6"
      },
      "outputs": [
        {
          "data": {
            "text/plain": [
              "array([[<matplotlib.axes._subplots.AxesSubplot object at 0x7f689a54a0d0>,\n",
              "        <matplotlib.axes._subplots.AxesSubplot object at 0x7f689a55b2d0>]],\n",
              "      dtype=object)"
            ]
          },
          "execution_count": 173,
          "metadata": {},
          "output_type": "execute_result"
        },
        {
          "data": {
            "image/png": "[encoded data removed]",
            "text/plain": [
              "<Figure size 432x288 with 2 Axes>"
            ]
          },
          "metadata": {
            "needs_background": "light"
          },
          "output_type": "display_data"
        }
      ],
      "source": [
        "# Elaboración de Histrograma\n",
        "\n",
        "Comparison.hist()"
      ]
    },
    {
      "cell_type": "code",
      "execution_count": 186,
      "metadata": {
        "colab": {
          "base_uri": "https://localhost:8080/"
        },
        "id": "MndEShq8eiz7",
        "outputId": "a18db4bf-39d1-4627-d473-93ec2c28639b"
      },
      "outputs": [
        {
          "data": {
            "text/plain": [
              "VIV17_R    75.607506\n",
              "ECO1_R     49.564158\n",
              "dtype: float64"
            ]
          },
          "execution_count": 186,
          "metadata": {},
          "output_type": "execute_result"
        }
      ],
      "source": [
        "# Calculo de la media\n",
        "mean_Comparison = Comparison.mean()\n",
        "mean_Comparison"
      ]
    },
    {
      "cell_type": "code",
      "execution_count": 187,
      "metadata": {
        "colab": {
          "base_uri": "https://localhost:8080/"
        },
        "id": "taQKO0rwjOGI",
        "outputId": "d798ec04-a4cb-4487-8b49-35f91267baa6"
      },
      "outputs": [
        {
          "data": {
            "text/plain": [
              "VIV17_R    1760.597306\n",
              "ECO1_R      822.207973\n",
              "dtype: float64"
            ]
          },
          "execution_count": 187,
          "metadata": {},
          "output_type": "execute_result"
        }
      ],
      "source": [
        "# Cálculo de la varianza\n",
        "var_Comparison = Comparison.var()\n",
        "var_Comparison"
      ]
    },
    {
      "cell_type": "code",
      "execution_count": 188,
      "metadata": {
        "colab": {
          "base_uri": "https://localhost:8080/"
        },
        "id": "vB0nKIcjjbc0",
        "outputId": "17376940-772c-4013-a833-8831f323bf85"
      },
      "outputs": [
        {
          "data": {
            "text/plain": [
              "VIV17_R    41.959472\n",
              "ECO1_R     28.674169\n",
              "dtype: float64"
            ]
          },
          "execution_count": 188,
          "metadata": {},
          "output_type": "execute_result"
        }
      ],
      "source": [
        "# Cálculo de Desviación Estandar\n",
        "desv_est_Comparison = Comparison.std()\n",
        "desv_est_Comparison"
      ]
    },
    {
      "cell_type": "code",
      "execution_count": 185,
      "metadata": {
        "colab": {
          "base_uri": "https://localhost:8080/"
        },
        "id": "3db-X8l6eod1",
        "outputId": "a73f9965-5adb-4763-9c30-d8426dd2484a"
      },
      "outputs": [
        {
          "data": {
            "text/plain": [
              "VIV17_R   -0.466668\n",
              "ECO1_R    -0.647224\n",
              "dtype: float64"
            ]
          },
          "execution_count": 185,
          "metadata": {},
          "output_type": "execute_result"
        }
      ],
      "source": [
        "# Cálculo de Curtosis\n",
        "kurtosis_Comparison = Comparison.kurtosis()\n",
        "kurtosis_Comparison"
      ]
    }
  ],
  "metadata": {
    "colab": {
      "collapsed_sections": [],
      "provenance": []
    },
    "kernelspec": {
      "display_name": "Python 3",
      "name": "python3"
    },
    "language_info": {
      "name": "python"
    }
  },
  "nbformat": 4,
  "nbformat_minor": 0
}
